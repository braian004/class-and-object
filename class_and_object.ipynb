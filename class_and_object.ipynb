{
  "cells": [
    {
      "cell_type": "markdown",
      "metadata": {
        "id": "view-in-github",
        "colab_type": "text"
      },
      "source": [
        "<a href=\"https://colab.research.google.com/github/braian004/class-and-object/blob/main/class_and_object.ipynb\" target=\"_parent\"><img src=\"https://colab.research.google.com/assets/colab-badge.svg\" alt=\"Open In Colab\"/></a>"
      ]
    },
    {
      "cell_type": "markdown",
      "metadata": {
        "id": "mW7Bz41u7Sb0"
      },
      "source": [
        "## Clases y Programación Orientada a Objetos"
      ]
    },
    {
      "cell_type": "markdown",
      "metadata": {
        "id": "0rGr--LE7ScD"
      },
      "source": [
        "1) Crear la clase vehículo que contenga los atributos:<br>\n",
        "Color<br>\n",
        "Si es moto, auto, camioneta ó camión<br>\n",
        "Cilindrada del motor"
      ]
    },
    {
      "cell_type": "code",
      "execution_count": null,
      "metadata": {
        "id": "esyuMpM_7ScH"
      },
      "outputs": [],
      "source": [
        "class Vehiculo:\n",
        "    def __init__(self, color, tipo, cilindrada):\n",
        "        self.color = color\n",
        "        self.tipo = tipo\n",
        "        self.cilindrada = cilindrada"
      ]
    },
    {
      "cell_type": "markdown",
      "metadata": {
        "id": "Jgf6kd-L7ScS"
      },
      "source": [
        "2) A la clase Vehiculo creada en el punto 1, agregar los siguientes métodos:<br>\n",
        "Acelerar<br>\n",
        "Frenar<br>\n",
        "Doblar<br>"
      ]
    },
    {
      "cell_type": "code",
      "execution_count": null,
      "metadata": {
        "id": "oEGSkhda7ScU"
      },
      "outputs": [],
      "source": [
        "class Vehiculo:\n",
        "    def __init__(self, color, tipo, cilindrada):\n",
        "        self.color = color\n",
        "        self.tipo = tipo\n",
        "        self.cilindrada = cilindrada\n",
        "        self.velocidad = 0\n",
        "        self.direccion = 0\n",
        "\n",
        "    def Acelerar(self, vel):\n",
        "        self.velocidad += vel\n",
        "\n",
        "    def Frenar(self, vel):\n",
        "        self.velocidad -= vel\n",
        "    \n",
        "    def Doblar(self, grados):\n",
        "        self.direccion += grados"
      ]
    },
    {
      "cell_type": "markdown",
      "metadata": {
        "id": "dKwsM_UV7ScW"
      },
      "source": [
        "3) Instanciar 3 objetos de la clase vehículo y ejecutar sus métodos, probar luego el resultado"
      ]
    },
    {
      "cell_type": "code",
      "execution_count": null,
      "metadata": {
        "id": "hHWalVvZ7ScY"
      },
      "outputs": [],
      "source": [
        "a1 = Vehiculo('rojo', 'auto', 2)\n",
        "a2 = Vehiculo('blanco', 'camioneta', 3.6)\n",
        "a3 = Vehiculo('negro', 'moto', 1)"
      ]
    },
    {
      "cell_type": "code",
      "execution_count": null,
      "metadata": {
        "id": "2GBLcM3P7Scb"
      },
      "outputs": [],
      "source": [
        "a1.Acelerar(40)\n",
        "a2.Acelerar(60)\n",
        "a3.Acelerar(30)\n",
        "a1.Doblar(30)\n",
        "a3.Doblar(-30)\n",
        "a2.Frenar(-50)"
      ]
    },
    {
      "cell_type": "markdown",
      "metadata": {
        "id": "BM56QDgF7Sce"
      },
      "source": [
        "4) Agregar a la clase Vehiculo, un método que muestre su estado, es decir, a que velocidad se encuentra y su dirección. Y otro método que muestre color, tipo y cilindrada"
      ]
    },
    {
      "cell_type": "code",
      "execution_count": null,
      "metadata": {
        "id": "zNwiRbGz7Sci"
      },
      "outputs": [],
      "source": [
        "class Vehiculo:\n",
        "    def __init__(self, color, tipo, cilindrada):\n",
        "        self.color = color\n",
        "        self.tipo = tipo\n",
        "        self.cilindrada = cilindrada\n",
        "        self.velocidad = 0\n",
        "        self.direccion = 0\n",
        "\n",
        "    def Acelerar(self, vel):\n",
        "        self.velocidad += vel\n",
        "\n",
        "    def Frenar(self, vel):\n",
        "        self.velocidad -= vel\n",
        "    \n",
        "    def Doblar(self, grados):\n",
        "        self.direccion += grados\n",
        "\n",
        "    def Estado(self):\n",
        "        print('Velocidad:', self.velocidad, '- Dirección:', self.direccion)\n",
        "\n",
        "    def Detalle(self):\n",
        "        print('Soy', self.tipo, 'de color', self.color, 'y mi cilindrada es de', self.cilindrada, 'litros')"
      ]
    },
    {
      "cell_type": "code",
      "execution_count": null,
      "metadata": {
        "id": "_L2auzbv7Scm",
        "outputId": "38a4ace3-e8bd-48b5-a2d2-55b38fb636b8"
      },
      "outputs": [
        {
          "name": "stdout",
          "output_type": "stream",
          "text": [
            "Soy auto de color rojo y mi cilindrada es de 2 litros\n"
          ]
        }
      ],
      "source": [
        "a1 = Vehiculo('rojo', 'auto', 2)\n",
        "a1.Detalle()"
      ]
    },
    {
      "cell_type": "code",
      "execution_count": null,
      "metadata": {
        "id": "dtRmwqwU7Scq",
        "outputId": "c4ac55b6-973b-4a7c-80fb-c4173c36fbf5"
      },
      "outputs": [
        {
          "name": "stdout",
          "output_type": "stream",
          "text": [
            "Velocidad: 0 - Dirección: 0\n",
            "Velocidad: 30 - Dirección: 0\n"
          ]
        }
      ],
      "source": [
        "a1.Estado()\n",
        "a1.Acelerar(30)\n",
        "a1.Estado()"
      ]
    },
    {
      "cell_type": "markdown",
      "metadata": {
        "id": "hgo_Cm357Scs"
      },
      "source": [
        "5) Crear una clase que permita utilizar las funciones creadas en la práctica del módulo 6<br>\n",
        "Verificar Primo<br>\n",
        "Valor modal<br>\n",
        "Conversión grados<br>\n",
        "Factorial<br>"
      ]
    },
    {
      "cell_type": "code",
      "execution_count": null,
      "metadata": {
        "id": "kucwDXBq7Scv"
      },
      "outputs": [],
      "source": [
        "class Herramientas:\n",
        "    def __init__(self) -> None:\n",
        "        pass\n",
        "\n",
        "    def verifica_primo(self, nro):\n",
        "        es_primo = True\n",
        "        for i in range(2, nro):\n",
        "            if nro % i == 0:\n",
        "                es_primo = False\n",
        "                break\n",
        "        return es_primo\n",
        "\n",
        "    def valor_modal(self, lista, menor):\n",
        "        lista_unicos = []\n",
        "        lista_repeticiones = []\n",
        "        if len(lista) == 0:\n",
        "            return None\n",
        "        if (menor):\n",
        "            lista.sort()\n",
        "        else:\n",
        "            lista.sort(reverse=True)\n",
        "        for elemento in lista:\n",
        "            if elemento in lista_unicos:\n",
        "                i = lista_unicos.index(elemento)\n",
        "                lista_repeticiones[i] += 1\n",
        "            else:\n",
        "                lista_unicos.append(elemento)\n",
        "                lista_repeticiones.append(1)\n",
        "        moda = lista_unicos[0]\n",
        "        maximo = lista_repeticiones[0]\n",
        "        for i, elemento in enumerate(lista_unicos):\n",
        "            if lista_repeticiones[i] > maximo:\n",
        "                moda = lista_unicos[i]\n",
        "                maximo = lista_repeticiones[i]\n",
        "        return moda, maximo\n",
        "\n",
        "    def conversion_grados(self, valor, origen, destino):\n",
        "        valor_destino = None\n",
        "        if (origen == 'celsius'):\n",
        "            if (destino == 'celsius'):\n",
        "                valor_destino = valor\n",
        "            elif (destino == 'farenheit'):\n",
        "                valor_destino = (valor * 9 / 5) + 32\n",
        "            elif (destino == 'kelvin'):\n",
        "                valor_destino = valor + 273.15\n",
        "            else:\n",
        "                print('Parámetro de Destino incorrecto')\n",
        "        elif (origen == 'farenheit'):\n",
        "            if (destino == 'celsius'):\n",
        "                valor_destino = (valor - 32) * 5 / 9\n",
        "            elif (destino == 'farenheit'):\n",
        "                valor_destino = valor\n",
        "            elif (destino == 'kelvin'):\n",
        "                valor_destino = ((valor - 32) * 5 / 9) + 273.15\n",
        "            else:\n",
        "                print('Parámetro de Destino incorrecto')\n",
        "        elif (origen == 'kelvin'):\n",
        "            if (destino == 'celsius'):\n",
        "                valor_destino = valor - 273.15\n",
        "            elif (destino == 'farenheit'):\n",
        "                valor_destino = ((valor - 273.15) * 9 / 5) + 32\n",
        "            elif (destino == 'kelvin'):\n",
        "                valor_destino = valor\n",
        "            else:\n",
        "                print('Parámetro de Destino incorrecto')\n",
        "        else:\n",
        "            print('Parámetro de Origen incorrecto')\n",
        "        return valor_destino\n",
        "\n",
        "    def factorial(self, numero):\n",
        "        if(type(numero) != int):\n",
        "            return 'El numero debe ser un entero'\n",
        "        if(numero < 0):\n",
        "            return 'El numero debe ser pisitivo'\n",
        "        if (numero > 1):\n",
        "            numero = numero * self.factorial(numero - 1)\n",
        "        return numero"
      ]
    },
    {
      "cell_type": "code",
      "execution_count": null,
      "metadata": {
        "id": "stSjiGtj7Sc1"
      },
      "outputs": [],
      "source": [
        "h = Herramientas()"
      ]
    },
    {
      "cell_type": "markdown",
      "metadata": {
        "id": "rNeBo6bw7Sc2"
      },
      "source": [
        "6) Probar las funciones incorporadas en la clase del punto 5"
      ]
    },
    {
      "cell_type": "code",
      "execution_count": null,
      "metadata": {
        "id": "iwpKFA2U7Sc3",
        "outputId": "5033eb73-2253-4831-b6a6-3e5e8d94cae8"
      },
      "outputs": [
        {
          "data": {
            "text/plain": [
              "True"
            ]
          },
          "execution_count": 28,
          "metadata": {},
          "output_type": "execute_result"
        }
      ],
      "source": [
        "h.verifica_primo(7)"
      ]
    },
    {
      "cell_type": "code",
      "execution_count": null,
      "metadata": {
        "id": "fc8GWvCE7Sc5",
        "outputId": "e5b9eea3-8fb0-4ea6-e864-1aab726b9a36"
      },
      "outputs": [
        {
          "name": "stdout",
          "output_type": "stream",
          "text": [
            "El valor modal es 8 y se reptie 2 veces\n"
          ]
        }
      ],
      "source": [
        "listado = [1,8,2,5,4,8,10,7]\n",
        "moda, repe = h.valor_modal(listado, True)\n",
        "print('El valor modal es', moda, 'y se reptie', repe, 'veces')"
      ]
    },
    {
      "cell_type": "code",
      "execution_count": null,
      "metadata": {
        "id": "kBM5QxY87Sc6",
        "outputId": "f4cec687-640a-409d-e078-3eff1d35ee4a"
      },
      "outputs": [
        {
          "data": {
            "text/plain": [
              "283.15"
            ]
          },
          "execution_count": 31,
          "metadata": {},
          "output_type": "execute_result"
        }
      ],
      "source": [
        "h.conversion_grados(10, 'celsius', 'kelvin')"
      ]
    },
    {
      "cell_type": "code",
      "execution_count": null,
      "metadata": {
        "id": "MYNMkNDz7Sc-",
        "outputId": "a0f79b8b-86a1-4434-efd2-f8fb1c9794b8"
      },
      "outputs": [
        {
          "data": {
            "text/plain": [
              "720"
            ]
          },
          "execution_count": 35,
          "metadata": {},
          "output_type": "execute_result"
        }
      ],
      "source": [
        "h.factorial(6)"
      ]
    },
    {
      "cell_type": "markdown",
      "metadata": {
        "id": "2NQ6Um5f7SdC"
      },
      "source": [
        "7) Es necesario que la clase creada en el punto 5 contenga una lista, sobre la cual se aplquen las funciones incorporadas"
      ]
    },
    {
      "cell_type": "code",
      "execution_count": null,
      "metadata": {
        "id": "lVR_8SSS7SdD"
      },
      "outputs": [],
      "source": [
        "class Herramientas:\n",
        "    def __init__(self, lista_numeros):\n",
        "        self.lista = lista_numeros\n",
        "\n",
        "    def verifica_primo(self):\n",
        "        for i in self.lista:\n",
        "            if (self.__verifica_primo(i)):\n",
        "                print('El elemento', i, 'SI es un numero primo')\n",
        "            else:\n",
        "                print('El elemento', i, 'NO es un numero primo')\n",
        "\n",
        "    def conversion_grados(self, origen, destino):\n",
        "        for i in self.lista:\n",
        "            print(i, 'grados', origen, 'son', self.__conversion_grados(i, origen, destino),'grados',destino)\n",
        "    \n",
        "    def factorial(self):\n",
        "        for i in self.lista:\n",
        "            print('El factorial de ', i, 'es', self.__factorial(i))\n",
        "\n",
        "    def __verifica_primo(self, nro):\n",
        "        es_primo = True\n",
        "        for i in range(2, nro):\n",
        "            if nro % i == 0:\n",
        "                es_primo = False\n",
        "                break\n",
        "        return es_primo\n",
        "\n",
        "    def valor_modal(self, menor):\n",
        "        lista_unicos = []\n",
        "        lista_repeticiones = []\n",
        "        if len(self.lista) == 0:\n",
        "            return None\n",
        "        if (menor):\n",
        "            self.lista.sort()\n",
        "        else:\n",
        "            self.lista.sort(reverse=True)\n",
        "        for elemento in self.lista:\n",
        "            if elemento in lista_unicos:\n",
        "                i = lista_unicos.index(elemento)\n",
        "                lista_repeticiones[i] += 1\n",
        "            else:\n",
        "                lista_unicos.append(elemento)\n",
        "                lista_repeticiones.append(1)\n",
        "        moda = lista_unicos[0]\n",
        "        maximo = lista_repeticiones[0]\n",
        "        for i, elemento in enumerate(lista_unicos):\n",
        "            if lista_repeticiones[i] > maximo:\n",
        "                moda = lista_unicos[i]\n",
        "                maximo = lista_repeticiones[i]\n",
        "        return moda, maximo\n",
        "\n",
        "    def __conversion_grados(self, valor, origen, destino):\n",
        "        valor_destino = None\n",
        "        if (origen == 'celsius'):\n",
        "            if (destino == 'celsius'):\n",
        "                valor_destino = valor\n",
        "            elif (destino == 'farenheit'):\n",
        "                valor_destino = (valor * 9 / 5) + 32\n",
        "            elif (destino == 'kelvin'):\n",
        "                valor_destino = valor + 273.15\n",
        "            else:\n",
        "                print('Parámetro de Destino incorrecto')\n",
        "        elif (origen == 'farenheit'):\n",
        "            if (destino == 'celsius'):\n",
        "                valor_destino = (valor - 32) * 5 / 9\n",
        "            elif (destino == 'farenheit'):\n",
        "                valor_destino = valor\n",
        "            elif (destino == 'kelvin'):\n",
        "                valor_destino = ((valor - 32) * 5 / 9) + 273.15\n",
        "            else:\n",
        "                print('Parámetro de Destino incorrecto')\n",
        "        elif (origen == 'kelvin'):\n",
        "            if (destino == 'celsius'):\n",
        "                valor_destino = valor - 273.15\n",
        "            elif (destino == 'farenheit'):\n",
        "                valor_destino = ((valor - 273.15) * 9 / 5) + 32\n",
        "            elif (destino == 'kelvin'):\n",
        "                valor_destino = valor\n",
        "            else:\n",
        "                print('Parámetro de Destino incorrecto')\n",
        "        else:\n",
        "            print('Parámetro de Origen incorrecto')\n",
        "        return valor_destino\n",
        "\n",
        "    def __factorial(self, numero):\n",
        "        if(type(numero) != int):\n",
        "            return 'El numero debe ser un entero'\n",
        "        if(numero < 0):\n",
        "            return 'El numero debe ser pisitivo'\n",
        "        if (numero > 1):\n",
        "            numero = numero * self.__factorial(numero - 1)\n",
        "        return numero"
      ]
    },
    {
      "cell_type": "code",
      "execution_count": null,
      "metadata": {
        "id": "tsx6E7SO7SdH"
      },
      "outputs": [],
      "source": [
        "h = Herramientas([1,1,2,5,8,8,9,11,15,16,16,16,18,20])"
      ]
    },
    {
      "cell_type": "code",
      "execution_count": null,
      "metadata": {
        "id": "v137qCQ07SdK",
        "outputId": "0dd6c064-33a6-4702-c974-1eb06033ba77"
      },
      "outputs": [
        {
          "name": "stdout",
          "output_type": "stream",
          "text": [
            "1 grados celsius son 33.8 grados farenheit\n",
            "1 grados celsius son 33.8 grados farenheit\n",
            "2 grados celsius son 35.6 grados farenheit\n",
            "5 grados celsius son 41.0 grados farenheit\n",
            "8 grados celsius son 46.4 grados farenheit\n",
            "8 grados celsius son 46.4 grados farenheit\n",
            "9 grados celsius son 48.2 grados farenheit\n",
            "11 grados celsius son 51.8 grados farenheit\n",
            "15 grados celsius son 59.0 grados farenheit\n",
            "16 grados celsius son 60.8 grados farenheit\n",
            "16 grados celsius son 60.8 grados farenheit\n",
            "16 grados celsius son 60.8 grados farenheit\n",
            "18 grados celsius son 64.4 grados farenheit\n",
            "20 grados celsius son 68.0 grados farenheit\n"
          ]
        }
      ],
      "source": [
        "h.conversion_grados('celsius','farenheit')"
      ]
    },
    {
      "cell_type": "code",
      "execution_count": null,
      "metadata": {
        "id": "0kmUO3Vp7SdO",
        "outputId": "bc11ca53-d585-4918-e496-5312453b192d"
      },
      "outputs": [
        {
          "name": "stdout",
          "output_type": "stream",
          "text": [
            "El elemento 1 SI es un numero primo\n",
            "El elemento 1 SI es un numero primo\n",
            "El elemento 2 SI es un numero primo\n",
            "El elemento 5 SI es un numero primo\n",
            "El elemento 8 NO es un numero primo\n",
            "El elemento 8 NO es un numero primo\n",
            "El elemento 9 NO es un numero primo\n",
            "El elemento 11 SI es un numero primo\n",
            "El elemento 15 NO es un numero primo\n",
            "El elemento 16 NO es un numero primo\n",
            "El elemento 16 NO es un numero primo\n",
            "El elemento 16 NO es un numero primo\n",
            "El elemento 18 NO es un numero primo\n",
            "El elemento 20 NO es un numero primo\n"
          ]
        }
      ],
      "source": [
        "h.verifica_primo()"
      ]
    },
    {
      "cell_type": "code",
      "execution_count": null,
      "metadata": {
        "id": "sJU3TkwA7SdP",
        "outputId": "c63fbd01-e9da-4c70-829a-4b9c15a057e0"
      },
      "outputs": [
        {
          "name": "stdout",
          "output_type": "stream",
          "text": [
            "El valor modal es 16 y se reptie 3 veces\n"
          ]
        }
      ],
      "source": [
        "moda, repe = h.valor_modal(False)\n",
        "print('El valor modal es', moda, 'y se reptie', repe, 'veces')"
      ]
    },
    {
      "cell_type": "code",
      "execution_count": null,
      "metadata": {
        "id": "NLNJ8QpZ7SdT",
        "outputId": "eab6b51e-2494-4015-e166-c91c22f27315"
      },
      "outputs": [
        {
          "name": "stdout",
          "output_type": "stream",
          "text": [
            "El factorial de  20 es 2432902008176640000\n",
            "El factorial de  18 es 6402373705728000\n",
            "El factorial de  16 es 20922789888000\n",
            "El factorial de  16 es 20922789888000\n",
            "El factorial de  16 es 20922789888000\n",
            "El factorial de  15 es 1307674368000\n",
            "El factorial de  11 es 39916800\n",
            "El factorial de  9 es 362880\n",
            "El factorial de  8 es 40320\n",
            "El factorial de  8 es 40320\n",
            "El factorial de  5 es 120\n",
            "El factorial de  2 es 2\n",
            "El factorial de  1 es 1\n",
            "El factorial de  1 es 1\n"
          ]
        }
      ],
      "source": [
        "h.factorial()"
      ]
    },
    {
      "cell_type": "markdown",
      "metadata": {
        "id": "CT-4UKfI7SdV"
      },
      "source": [
        "8) Crear un archivo .py aparte y ubicar allí la clase generada en el punto anterior. Luego realizar la importación del módulo y probar alguna de sus funciones"
      ]
    },
    {
      "cell_type": "code",
      "execution_count": null,
      "metadata": {
        "id": "ThREoUyA7SdW"
      },
      "outputs": [],
      "source": [
        "from herramientas import *"
      ]
    },
    {
      "cell_type": "code",
      "execution_count": null,
      "metadata": {
        "id": "3ncEtlzq7SdX"
      },
      "outputs": [],
      "source": [
        "h2 = Herramientas([1,1,2,3,5,6,8,8])"
      ]
    },
    {
      "cell_type": "code",
      "execution_count": null,
      "metadata": {
        "id": "lYWgRMZT7SdZ",
        "outputId": "f15858c1-b664-451d-c729-35af33963f53"
      },
      "outputs": [
        {
          "name": "stdout",
          "output_type": "stream",
          "text": [
            "El elemento 1 SI es un numero primo\n",
            "El elemento 1 SI es un numero primo\n",
            "El elemento 2 SI es un numero primo\n",
            "El elemento 3 SI es un numero primo\n",
            "El elemento 5 SI es un numero primo\n",
            "El elemento 6 NO es un numero primo\n",
            "El elemento 8 NO es un numero primo\n",
            "El elemento 8 NO es un numero primo\n"
          ]
        }
      ],
      "source": [
        "h2.verifica_primo()"
      ]
    }
  ],
  "metadata": {
    "interpreter": {
      "hash": "c85384e4cb51c8b72350f3a8712cc8351fdc3955e32a27f9b60c6242ab125f01"
    },
    "kernelspec": {
      "display_name": "Python 3 (ipykernel)",
      "language": "python",
      "name": "python3"
    },
    "language_info": {
      "codemirror_mode": {
        "name": "ipython",
        "version": 3
      },
      "file_extension": ".py",
      "mimetype": "text/x-python",
      "name": "python",
      "nbconvert_exporter": "python",
      "pygments_lexer": "ipython3",
      "version": "3.9.7"
    },
    "colab": {
      "provenance": [],
      "include_colab_link": true
    }
  },
  "nbformat": 4,
  "nbformat_minor": 0
}